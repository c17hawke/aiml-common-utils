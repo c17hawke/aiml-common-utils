{
 "cells": [
  {
   "cell_type": "code",
   "execution_count": 1,
   "metadata": {},
   "outputs": [],
   "source": [
    "import os\n",
    "from pathlib import Path"
   ]
  },
  {
   "cell_type": "markdown",
   "metadata": {},
   "source": [
    "## read yaml file util example"
   ]
  },
  {
   "cell_type": "code",
   "execution_count": 2,
   "metadata": {},
   "outputs": [
    {
     "data": {
      "text/plain": [
       "False"
      ]
     },
     "execution_count": 2,
     "metadata": {},
     "output_type": "execute_result"
    }
   ],
   "source": [
    "from aiml_py_common_utils import read_yaml\n",
    "from aiml_py_common_utils import LOG_LOCAL\n",
    "LOG_LOCAL"
   ]
  },
  {
   "cell_type": "code",
   "execution_count": 3,
   "metadata": {},
   "outputs": [
    {
     "name": "stdout",
     "output_type": "stream",
     "text": [
      "Overwriting sample.yaml\n"
     ]
    }
   ],
   "source": [
    "%%writefile sample.yaml\n",
    "# This is a sample YAML file\n",
    "\n",
    "# Scalars\n",
    "string: \"Hello, World\"\n",
    "integer: 25\n",
    "floating_point: 3.14\n",
    "boolean: true\n",
    "null_value: null\n",
    "\n",
    "# Sequences\n",
    "sequence:\n",
    "  - item1\n",
    "  - item2\n",
    "  - item3\n",
    "\n",
    "# Mappings\n",
    "mapping:\n",
    "  key1: value1\n",
    "  key2: value2\n",
    "  key3: value3\n",
    "\n",
    "# Nested sequences and mappings\n",
    "nested:\n",
    "  - key1: value1\n",
    "    key2: value2\n",
    "  - sequence:\n",
    "      - item1\n",
    "      - item2\n"
   ]
  },
  {
   "cell_type": "code",
   "execution_count": 4,
   "metadata": {},
   "outputs": [
    {
     "name": "stdout",
     "output_type": "stream",
     "text": [
      "\u001b[36m[2024-01-21 11:30:38\u001b[0m \u001b[1m\u001b[36mINFO common.read_yaml:27]:\u001b[0m\u001b[1m yaml file: sample.yaml loaded successfully\u001b[0m\n"
     ]
    }
   ],
   "source": [
    "sample_yaml_filepath = Path(\"./sample.yaml\")\n",
    "\n",
    "yaml_content = read_yaml(path_to_yaml=sample_yaml_filepath)"
   ]
  },
  {
   "cell_type": "code",
   "execution_count": 5,
   "metadata": {},
   "outputs": [
    {
     "data": {
      "text/plain": [
       "BoxList([{'key1': 'value1', 'key2': 'value2'}, {'sequence': ['item1', 'item2']}])"
      ]
     },
     "execution_count": 5,
     "metadata": {},
     "output_type": "execute_result"
    }
   ],
   "source": [
    "yaml_content.nested"
   ]
  },
  {
   "cell_type": "code",
   "execution_count": 6,
   "metadata": {},
   "outputs": [
    {
     "data": {
      "text/plain": [
       "'Hello, World'"
      ]
     },
     "execution_count": 6,
     "metadata": {},
     "output_type": "execute_result"
    }
   ],
   "source": [
    "yaml_content.string"
   ]
  },
  {
   "cell_type": "markdown",
   "metadata": {},
   "source": []
  },
  {
   "cell_type": "code",
   "execution_count": null,
   "metadata": {},
   "outputs": [],
   "source": []
  }
 ],
 "metadata": {
  "kernelspec": {
   "display_name": "Python 3",
   "language": "python",
   "name": "python3"
  },
  "language_info": {
   "codemirror_mode": {
    "name": "ipython",
    "version": 3
   },
   "file_extension": ".py",
   "mimetype": "text/x-python",
   "name": "python",
   "nbconvert_exporter": "python",
   "pygments_lexer": "ipython3",
   "version": "3.9.18"
  }
 },
 "nbformat": 4,
 "nbformat_minor": 2
}
